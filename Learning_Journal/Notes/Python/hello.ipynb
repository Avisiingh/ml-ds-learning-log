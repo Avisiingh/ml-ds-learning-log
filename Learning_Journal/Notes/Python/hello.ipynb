{
 "cells": [
  {
   "cell_type": "code",
   "execution_count": 1,
   "metadata": {},
   "outputs": [
    {
     "name": "stdout",
     "output_type": "stream",
     "text": [
      "hello, world\n"
     ]
    }
   ],
   "source": [
    "print(\"hello, world\") # print is function. ()  argument"
   ]
  },
  {
   "cell_type": "code",
   "execution_count": 2,
   "metadata": {},
   "outputs": [
    {
     "name": "stdout",
     "output_type": "stream",
     "text": [
      "hello, avinash\n"
     ]
    }
   ],
   "source": [
    "name=input(\"what's your name? \")     #here iss name is varibale , = is assigment operator.\n",
    "print(\"hello,\", name)"
   ]
  },
  {
   "cell_type": "code",
   "execution_count": 3,
   "metadata": {},
   "outputs": [
    {
     "name": "stdout",
     "output_type": "stream",
     "text": [
      "hello,\n",
      "avinash\n"
     ]
    }
   ],
   "source": [
    "#Ask user for their name\n",
    "name=input(\"what's your name? \")    \n",
    "# say hello to the user\n",
    "print(\"hello,\")\n",
    "print(name)"
   ]
  },
  {
   "cell_type": "code",
   "execution_count": 4,
   "metadata": {},
   "outputs": [
    {
     "name": "stdout",
     "output_type": "stream",
     "text": [
      "hello, avinash\n"
     ]
    }
   ],
   "source": [
    "name = input(\"what's your name? \")\n",
    "print(\"hello, \"+name)"
   ]
  },
  {
   "cell_type": "code",
   "execution_count": 5,
   "metadata": {},
   "outputs": [
    {
     "name": "stdout",
     "output_type": "stream",
     "text": [
      "hello,avinash\n"
     ]
    }
   ],
   "source": [
    "#Ask user for their name\n",
    "name=input(\"what's your name? \")    \n",
    "# say hello to the user\n",
    "print(\"hello,\", end=\"\")\n",
    "print(name)"
   ]
  },
  {
   "cell_type": "code",
   "execution_count": 6,
   "metadata": {},
   "outputs": [
    {
     "name": "stdout",
     "output_type": "stream",
     "text": [
      "hello,??avinash\n"
     ]
    }
   ],
   "source": [
    "#Ask user for their name\n",
    "name=input(\"what's your name? \")    \n",
    "# say hello to the user\n",
    "print(\"hello,\",name,sep=\"??\")\n"
   ]
  },
  {
   "cell_type": "code",
   "execution_count": null,
   "metadata": {},
   "outputs": [
    {
     "name": "stdout",
     "output_type": "stream",
     "text": [
      "hello,\"freind\"\n",
      "hello,\"freind\"\n"
     ]
    }
   ],
   "source": [
    "print(\"hello,\\\"freind\\\"\") \n",
    "print('hello,\"freind\"')"
   ]
  },
  {
   "cell_type": "code",
   "execution_count": null,
   "metadata": {},
   "outputs": [
    {
     "name": "stdout",
     "output_type": "stream",
     "text": [
      "hello,avinash\n"
     ]
    }
   ],
   "source": [
    "name =input(\"what's your name? \")\n",
    "print(f\"hello,{name}\")    # another way to print"
   ]
  },
  {
   "cell_type": "code",
   "execution_count": 14,
   "metadata": {},
   "outputs": [
    {
     "name": "stdout",
     "output_type": "stream",
     "text": [
      "hello,Avinash\n"
     ]
    }
   ],
   "source": [
    "name =input(\"what's your name? \")\n",
    "name =name.strip()      # REmove whitespace from str\n",
    "print(f\"hello,{name}\")"
   ]
  },
  {
   "cell_type": "code",
   "execution_count": null,
   "metadata": {},
   "outputs": [
    {
     "name": "stdout",
     "output_type": "stream",
     "text": [
      "hello,Avinash\n"
     ]
    }
   ],
   "source": [
    "name =input(\"what's your name? \")\n",
    "name =name.strip()\n",
    "name=name.capitalize()   # captalize user first name  letter      \n",
    "print(f\"hello,{name}\")"
   ]
  },
  {
   "cell_type": "code",
   "execution_count": 20,
   "metadata": {},
   "outputs": [
    {
     "name": "stdout",
     "output_type": "stream",
     "text": [
      "hello,Avinash Kumar\n"
     ]
    }
   ],
   "source": [
    "name =input(\"what's your name? \")\n",
    "name =name.strip()      \n",
    "name =name.title()      # capitalize first latter of rach word\n",
    "print(f\"hello,{name}\")"
   ]
  },
  {
   "cell_type": "code",
   "execution_count": null,
   "metadata": {},
   "outputs": [
    {
     "name": "stdout",
     "output_type": "stream",
     "text": [
      "hello,Avinash Kumae\n"
     ]
    }
   ],
   "source": [
    "name =input(\"what's your name? \")\n",
    "name =name.strip().title()   # we can write in this way too\n",
    "print(f\"hello,{name}\")"
   ]
  },
  {
   "cell_type": "code",
   "execution_count": 21,
   "metadata": {},
   "outputs": [
    {
     "name": "stdout",
     "output_type": "stream",
     "text": [
      "hello,Avinash Kumar\n"
     ]
    }
   ],
   "source": [
    "name =input(\"what's your name? \").strip().title()\n",
    "print(f\"hello,{name}\")"
   ]
  },
  {
   "cell_type": "code",
   "execution_count": 2,
   "metadata": {},
   "outputs": [
    {
     "name": "stdout",
     "output_type": "stream",
     "text": [
      "hello, Avinash\n"
     ]
    }
   ],
   "source": [
    "name=input(\"what's your name? \").strip().title()\n",
    "first,last =name.split(\" \")\n",
    "print(f\"hello, {first}\")"
   ]
  },
  {
   "cell_type": "code",
   "execution_count": 6,
   "metadata": {},
   "outputs": [
    {
     "name": "stdout",
     "output_type": "stream",
     "text": [
      "3\n"
     ]
    }
   ],
   "source": [
    "#addition of two number\n",
    "x =1\n",
    "y= 2\n",
    "z=x+y\n",
    "print(z)"
   ]
  },
  {
   "cell_type": "code",
   "execution_count": 7,
   "metadata": {},
   "outputs": [
    {
     "name": "stdout",
     "output_type": "stream",
     "text": [
      "35\n"
     ]
    }
   ],
   "source": [
    "x =int(input(\"what's x? \"))\n",
    "y =int(input(\"what's y? \"))\n",
    "z =x +y  \n",
    "print(z)"
   ]
  },
  {
   "cell_type": "code",
   "execution_count": 8,
   "metadata": {},
   "outputs": [
    {
     "name": "stdout",
     "output_type": "stream",
     "text": [
      "57\n"
     ]
    }
   ],
   "source": [
    "x =int(input(\"what's x? \"))\n",
    "y =int(input(\"what's y? \")) \n",
    "print(x+y)"
   ]
  },
  {
   "cell_type": "code",
   "execution_count": 9,
   "metadata": {},
   "outputs": [
    {
     "name": "stdout",
     "output_type": "stream",
     "text": [
      "2.9000000000000004\n"
     ]
    }
   ],
   "source": [
    "x=float(input(\"what's x? \"))\n",
    "y=float(input(\"what's y? \"))\n",
    "print(x+y)"
   ]
  },
  {
   "cell_type": "code",
   "execution_count": 10,
   "metadata": {},
   "outputs": [
    {
     "name": "stdout",
     "output_type": "stream",
     "text": [
      "4\n"
     ]
    }
   ],
   "source": [
    "#round(number[, ndigits])\n",
    "x=float(input(\"what's x? \"))\n",
    "y=float(input(\"what's y? \"))\n",
    "print(round(x+y))"
   ]
  },
  {
   "cell_type": "code",
   "execution_count": null,
   "metadata": {},
   "outputs": [],
   "source": []
  }
 ],
 "metadata": {
  "kernelspec": {
   "display_name": "Python 3",
   "language": "python",
   "name": "python3"
  },
  "language_info": {
   "codemirror_mode": {
    "name": "ipython",
    "version": 3
   },
   "file_extension": ".py",
   "mimetype": "text/x-python",
   "name": "python",
   "nbconvert_exporter": "python",
   "pygments_lexer": "ipython3",
   "version": "3.13.1"
  }
 },
 "nbformat": 4,
 "nbformat_minor": 2
}
